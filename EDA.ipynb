{
 "cells": [
  {
   "cell_type": "code",
   "execution_count": 1,
   "id": "e65a6efd",
   "metadata": {},
   "outputs": [],
   "source": [
    "# dataset from https://www.kaggle.com/datasets/atharvaarya25/e-commerce-analysis-uk\n",
    "# previous work from 'Cleaning Data.ipynb'\n",
    "\n",
    "# importing libraries for exploratory data analysis\n",
    "\n",
    "import pandas as pd\n",
    "import numpy as np\n",
    "import matplotlib.pyplot as plt\n",
    "from scipy import stats\n",
    "from scipy.stats import skew\n",
    "from scipy.stats import norm\n",
    "import statistics\n",
    "import seaborn as sns"
   ]
  },
  {
   "cell_type": "code",
   "execution_count": 2,
   "id": "ad8a3f80",
   "metadata": {},
   "outputs": [
    {
     "name": "stdout",
     "output_type": "stream",
     "text": [
      "<class 'pandas.core.frame.DataFrame'>\n",
      "RangeIndex: 541909 entries, 0 to 541908\n",
      "Data columns (total 14 columns):\n",
      " #   Column           Non-Null Count   Dtype  \n",
      "---  ------           --------------   -----  \n",
      " 0   InvoiceNo        541909 non-null  object \n",
      " 1   InvoiceDatetime  541909 non-null  object \n",
      " 2   BaseDate         541909 non-null  object \n",
      " 3   BaseDay          541909 non-null  int64  \n",
      " 4   BaseDayOfWeek    541909 non-null  int64  \n",
      " 5   BaseMonth        541909 non-null  int64  \n",
      " 6   BaseYear         541909 non-null  int64  \n",
      " 7   CustomerID       541909 non-null  object \n",
      " 8   StockCode        541909 non-null  object \n",
      " 9   Description      541909 non-null  object \n",
      " 10  Quantity         541909 non-null  int64  \n",
      " 11  UnitPrice        541909 non-null  float64\n",
      " 12  Country          541909 non-null  object \n",
      " 13  ItemTotalPrice   541909 non-null  float64\n",
      "dtypes: float64(2), int64(5), object(7)\n",
      "memory usage: 57.9+ MB\n"
     ]
    }
   ],
   "source": [
    "# reading our cleaned data\n",
    "sales_data = pd.read_csv('sales_data.csv', dtype={\n",
    "    'CustomerID': 'object'  \n",
    "})\n",
    "\n",
    "# checking if all data has the correct types\n",
    "sales_data.info()"
   ]
  },
  {
   "cell_type": "code",
   "execution_count": 3,
   "id": "84cea9c9",
   "metadata": {},
   "outputs": [
    {
     "data": {
      "text/html": [
       "<div>\n",
       "<style scoped>\n",
       "    .dataframe tbody tr th:only-of-type {\n",
       "        vertical-align: middle;\n",
       "    }\n",
       "\n",
       "    .dataframe tbody tr th {\n",
       "        vertical-align: top;\n",
       "    }\n",
       "\n",
       "    .dataframe thead th {\n",
       "        text-align: right;\n",
       "    }\n",
       "</style>\n",
       "<table border=\"1\" class=\"dataframe\">\n",
       "  <thead>\n",
       "    <tr style=\"text-align: right;\">\n",
       "      <th></th>\n",
       "      <th>InvoiceNo</th>\n",
       "      <th>InvoiceDatetime</th>\n",
       "      <th>BaseDate</th>\n",
       "      <th>BaseDay</th>\n",
       "      <th>BaseDayOfWeek</th>\n",
       "      <th>BaseMonth</th>\n",
       "      <th>BaseYear</th>\n",
       "      <th>CustomerID</th>\n",
       "      <th>StockCode</th>\n",
       "      <th>Description</th>\n",
       "      <th>Quantity</th>\n",
       "      <th>UnitPrice</th>\n",
       "      <th>Country</th>\n",
       "      <th>ItemTotalPrice</th>\n",
       "    </tr>\n",
       "  </thead>\n",
       "  <tbody>\n",
       "    <tr>\n",
       "      <th>0</th>\n",
       "      <td>536365</td>\n",
       "      <td>2010-12-01 08:26:00</td>\n",
       "      <td>2010-12-01</td>\n",
       "      <td>1</td>\n",
       "      <td>2</td>\n",
       "      <td>12</td>\n",
       "      <td>2010</td>\n",
       "      <td>17850</td>\n",
       "      <td>85123A</td>\n",
       "      <td>White Hanging Heart T-Light Holder</td>\n",
       "      <td>6</td>\n",
       "      <td>2.55</td>\n",
       "      <td>United Kingdom</td>\n",
       "      <td>15.30</td>\n",
       "    </tr>\n",
       "    <tr>\n",
       "      <th>1</th>\n",
       "      <td>536365</td>\n",
       "      <td>2010-12-01 08:26:00</td>\n",
       "      <td>2010-12-01</td>\n",
       "      <td>1</td>\n",
       "      <td>2</td>\n",
       "      <td>12</td>\n",
       "      <td>2010</td>\n",
       "      <td>17850</td>\n",
       "      <td>71053</td>\n",
       "      <td>White Metal Lantern</td>\n",
       "      <td>6</td>\n",
       "      <td>3.39</td>\n",
       "      <td>United Kingdom</td>\n",
       "      <td>20.34</td>\n",
       "    </tr>\n",
       "    <tr>\n",
       "      <th>2</th>\n",
       "      <td>536365</td>\n",
       "      <td>2010-12-01 08:26:00</td>\n",
       "      <td>2010-12-01</td>\n",
       "      <td>1</td>\n",
       "      <td>2</td>\n",
       "      <td>12</td>\n",
       "      <td>2010</td>\n",
       "      <td>17850</td>\n",
       "      <td>84406B</td>\n",
       "      <td>Cream Cupid Hearts Coat Hanger</td>\n",
       "      <td>8</td>\n",
       "      <td>2.75</td>\n",
       "      <td>United Kingdom</td>\n",
       "      <td>22.00</td>\n",
       "    </tr>\n",
       "    <tr>\n",
       "      <th>3</th>\n",
       "      <td>536365</td>\n",
       "      <td>2010-12-01 08:26:00</td>\n",
       "      <td>2010-12-01</td>\n",
       "      <td>1</td>\n",
       "      <td>2</td>\n",
       "      <td>12</td>\n",
       "      <td>2010</td>\n",
       "      <td>17850</td>\n",
       "      <td>84029G</td>\n",
       "      <td>Knitted Union Flag Hot Water Bottle</td>\n",
       "      <td>6</td>\n",
       "      <td>3.39</td>\n",
       "      <td>United Kingdom</td>\n",
       "      <td>20.34</td>\n",
       "    </tr>\n",
       "    <tr>\n",
       "      <th>4</th>\n",
       "      <td>536365</td>\n",
       "      <td>2010-12-01 08:26:00</td>\n",
       "      <td>2010-12-01</td>\n",
       "      <td>1</td>\n",
       "      <td>2</td>\n",
       "      <td>12</td>\n",
       "      <td>2010</td>\n",
       "      <td>17850</td>\n",
       "      <td>84029E</td>\n",
       "      <td>Red Woolly Hottie White Heart.</td>\n",
       "      <td>6</td>\n",
       "      <td>3.39</td>\n",
       "      <td>United Kingdom</td>\n",
       "      <td>20.34</td>\n",
       "    </tr>\n",
       "  </tbody>\n",
       "</table>\n",
       "</div>"
      ],
      "text/plain": [
       "  InvoiceNo      InvoiceDatetime    BaseDate  BaseDay  BaseDayOfWeek  \\\n",
       "0    536365  2010-12-01 08:26:00  2010-12-01        1              2   \n",
       "1    536365  2010-12-01 08:26:00  2010-12-01        1              2   \n",
       "2    536365  2010-12-01 08:26:00  2010-12-01        1              2   \n",
       "3    536365  2010-12-01 08:26:00  2010-12-01        1              2   \n",
       "4    536365  2010-12-01 08:26:00  2010-12-01        1              2   \n",
       "\n",
       "   BaseMonth  BaseYear CustomerID StockCode  \\\n",
       "0         12      2010      17850    85123A   \n",
       "1         12      2010      17850     71053   \n",
       "2         12      2010      17850    84406B   \n",
       "3         12      2010      17850    84029G   \n",
       "4         12      2010      17850    84029E   \n",
       "\n",
       "                           Description  Quantity  UnitPrice         Country  \\\n",
       "0   White Hanging Heart T-Light Holder         6       2.55  United Kingdom   \n",
       "1                  White Metal Lantern         6       3.39  United Kingdom   \n",
       "2       Cream Cupid Hearts Coat Hanger         8       2.75  United Kingdom   \n",
       "3  Knitted Union Flag Hot Water Bottle         6       3.39  United Kingdom   \n",
       "4       Red Woolly Hottie White Heart.         6       3.39  United Kingdom   \n",
       "\n",
       "   ItemTotalPrice  \n",
       "0           15.30  \n",
       "1           20.34  \n",
       "2           22.00  \n",
       "3           20.34  \n",
       "4           20.34  "
      ]
     },
     "execution_count": 3,
     "metadata": {},
     "output_type": "execute_result"
    }
   ],
   "source": [
    "# taking a look again at our data\n",
    "sales_data.head()"
   ]
  },
  {
   "cell_type": "code",
   "execution_count": 4,
   "id": "3872a37f",
   "metadata": {},
   "outputs": [
    {
     "data": {
      "text/plain": [
       "InvoiceNo          25900\n",
       "InvoiceDatetime    23260\n",
       "BaseDate             305\n",
       "BaseDay               31\n",
       "BaseDayOfWeek          6\n",
       "BaseMonth             12\n",
       "BaseYear               2\n",
       "CustomerID          4373\n",
       "StockCode           4070\n",
       "Description         4207\n",
       "Quantity             722\n",
       "UnitPrice           1630\n",
       "Country               38\n",
       "ItemTotalPrice      5998\n",
       "dtype: int64"
      ]
     },
     "execution_count": 4,
     "metadata": {},
     "output_type": "execute_result"
    }
   ],
   "source": [
    "# how many unique data we have for each column?\n",
    "sales_data.nunique()"
   ]
  },
  {
   "cell_type": "code",
   "execution_count": 5,
   "id": "396949f2",
   "metadata": {},
   "outputs": [
    {
     "data": {
      "text/html": [
       "<div>\n",
       "<style scoped>\n",
       "    .dataframe tbody tr th:only-of-type {\n",
       "        vertical-align: middle;\n",
       "    }\n",
       "\n",
       "    .dataframe tbody tr th {\n",
       "        vertical-align: top;\n",
       "    }\n",
       "\n",
       "    .dataframe thead th {\n",
       "        text-align: right;\n",
       "    }\n",
       "</style>\n",
       "<table border=\"1\" class=\"dataframe\">\n",
       "  <thead>\n",
       "    <tr style=\"text-align: right;\">\n",
       "      <th></th>\n",
       "      <th>BaseYear</th>\n",
       "      <th>TotalRevenue</th>\n",
       "    </tr>\n",
       "  </thead>\n",
       "  <tbody>\n",
       "    <tr>\n",
       "      <th>0</th>\n",
       "      <td>2010</td>\n",
       "      <td>7.489570e+05</td>\n",
       "    </tr>\n",
       "    <tr>\n",
       "      <th>1</th>\n",
       "      <td>2011</td>\n",
       "      <td>8.998791e+06</td>\n",
       "    </tr>\n",
       "  </tbody>\n",
       "</table>\n",
       "</div>"
      ],
      "text/plain": [
       "   BaseYear  TotalRevenue\n",
       "0      2010  7.489570e+05\n",
       "1      2011  8.998791e+06"
      ]
     },
     "execution_count": 5,
     "metadata": {},
     "output_type": "execute_result"
    }
   ],
   "source": [
    "# how many sales we had each year?\n",
    "revenue_by_year = pd.DataFrame(sales_data.groupby(['BaseYear'])['ItemTotalPrice'].sum().reset_index(name='TotalRevenue'))\n",
    "revenue_by_year"
   ]
  },
  {
   "cell_type": "code",
   "execution_count": 6,
   "id": "d570005d",
   "metadata": {},
   "outputs": [
    {
     "data": {
      "text/plain": [
       "<AxesSubplot:xlabel='BaseYear'>"
      ]
     },
     "execution_count": 6,
     "metadata": {},
     "output_type": "execute_result"
    },
    {
     "data": {
      "image/png": "[encoded data removed]",
      "text/plain": [
       "<Figure size 432x288 with 1 Axes>"
      ]
     },
     "metadata": {
      "needs_background": "light"
     },
     "output_type": "display_data"
    }
   ],
   "source": [
    "# Let's explore what this means with visualization\n",
    "revenue_by_year.plot(x='BaseYear', y='TotalRevenue', kind='bar')"
   ]
  },
  {
   "cell_type": "code",
   "execution_count": 7,
   "id": "9656b767",
   "metadata": {},
   "outputs": [
    {
     "data": {
      "text/html": [
       "<div>\n",
       "<style scoped>\n",
       "    .dataframe tbody tr th:only-of-type {\n",
       "        vertical-align: middle;\n",
       "    }\n",
       "\n",
       "    .dataframe tbody tr th {\n",
       "        vertical-align: top;\n",
       "    }\n",
       "\n",
       "    .dataframe thead th {\n",
       "        text-align: right;\n",
       "    }\n",
       "</style>\n",
       "<table border=\"1\" class=\"dataframe\">\n",
       "  <thead>\n",
       "    <tr style=\"text-align: right;\">\n",
       "      <th></th>\n",
       "      <th>BaseYear</th>\n",
       "      <th>BaseMonth</th>\n",
       "      <th>TotalRevenue</th>\n",
       "    </tr>\n",
       "  </thead>\n",
       "  <tbody>\n",
       "    <tr>\n",
       "      <th>0</th>\n",
       "      <td>2010</td>\n",
       "      <td>12</td>\n",
       "      <td>748957.020</td>\n",
       "    </tr>\n",
       "    <tr>\n",
       "      <th>1</th>\n",
       "      <td>2011</td>\n",
       "      <td>1</td>\n",
       "      <td>560000.260</td>\n",
       "    </tr>\n",
       "    <tr>\n",
       "      <th>2</th>\n",
       "      <td>2011</td>\n",
       "      <td>2</td>\n",
       "      <td>498062.650</td>\n",
       "    </tr>\n",
       "    <tr>\n",
       "      <th>3</th>\n",
       "      <td>2011</td>\n",
       "      <td>3</td>\n",
       "      <td>683267.080</td>\n",
       "    </tr>\n",
       "    <tr>\n",
       "      <th>4</th>\n",
       "      <td>2011</td>\n",
       "      <td>4</td>\n",
       "      <td>493207.121</td>\n",
       "    </tr>\n",
       "    <tr>\n",
       "      <th>5</th>\n",
       "      <td>2011</td>\n",
       "      <td>5</td>\n",
       "      <td>723333.510</td>\n",
       "    </tr>\n",
       "    <tr>\n",
       "      <th>6</th>\n",
       "      <td>2011</td>\n",
       "      <td>6</td>\n",
       "      <td>691123.120</td>\n",
       "    </tr>\n",
       "    <tr>\n",
       "      <th>7</th>\n",
       "      <td>2011</td>\n",
       "      <td>7</td>\n",
       "      <td>681300.111</td>\n",
       "    </tr>\n",
       "    <tr>\n",
       "      <th>8</th>\n",
       "      <td>2011</td>\n",
       "      <td>8</td>\n",
       "      <td>682680.510</td>\n",
       "    </tr>\n",
       "    <tr>\n",
       "      <th>9</th>\n",
       "      <td>2011</td>\n",
       "      <td>9</td>\n",
       "      <td>1019687.622</td>\n",
       "    </tr>\n",
       "    <tr>\n",
       "      <th>10</th>\n",
       "      <td>2011</td>\n",
       "      <td>10</td>\n",
       "      <td>1070704.670</td>\n",
       "    </tr>\n",
       "    <tr>\n",
       "      <th>11</th>\n",
       "      <td>2011</td>\n",
       "      <td>11</td>\n",
       "      <td>1461756.250</td>\n",
       "    </tr>\n",
       "    <tr>\n",
       "      <th>12</th>\n",
       "      <td>2011</td>\n",
       "      <td>12</td>\n",
       "      <td>433668.010</td>\n",
       "    </tr>\n",
       "  </tbody>\n",
       "</table>\n",
       "</div>"
      ],
      "text/plain": [
       "    BaseYear  BaseMonth  TotalRevenue\n",
       "0       2010         12    748957.020\n",
       "1       2011          1    560000.260\n",
       "2       2011          2    498062.650\n",
       "3       2011          3    683267.080\n",
       "4       2011          4    493207.121\n",
       "5       2011          5    723333.510\n",
       "6       2011          6    691123.120\n",
       "7       2011          7    681300.111\n",
       "8       2011          8    682680.510\n",
       "9       2011          9   1019687.622\n",
       "10      2011         10   1070704.670\n",
       "11      2011         11   1461756.250\n",
       "12      2011         12    433668.010"
      ]
     },
     "execution_count": 7,
     "metadata": {},
     "output_type": "execute_result"
    }
   ],
   "source": [
    "# so our base has a majority of data from 2011, or 2010 really wasn't a good year.\n",
    "\n",
    "# how many sales we had each month and each year?\n",
    "\n",
    "revenue_by_month = pd.DataFrame(sales_data.groupby(['BaseYear', 'BaseMonth'])['ItemTotalPrice'].sum().reset_index(name='TotalRevenue'))\n",
    "\n",
    "revenue_by_month.sort_values(['BaseYear', 'BaseMonth'], ascending = [True, True])"
   ]
  },
  {
   "cell_type": "code",
   "execution_count": 8,
   "id": "76a76cb9",
   "metadata": {},
   "outputs": [
    {
     "data": {
      "image/png": "[encoded data removed]",
      "text/plain": [
       "<Figure size 432x288 with 1 Axes>"
      ]
     },
     "metadata": {
      "needs_background": "light"
     },
     "output_type": "display_data"
    }
   ],
   "source": [
    "# so our data for 2010 is incomplete. Let's see the diference in revenue with a chart\n",
    "\n",
    "# compacting year and month to make the chart\n",
    "revenue_by_month['YearMonth'] = revenue_by_month[['BaseYear', 'BaseMonth']].apply(lambda x: '-'.join(x.values.astype(str)), axis=\"columns\")\n",
    "\n",
    "# imputing the specifics to the chart\n",
    "\n",
    "plt.bar(revenue_by_month['YearMonth'], revenue_by_month['TotalRevenue'], color= 'brown')\n",
    "plt.title('Total Revenue by Month and Year', fontsize=14)\n",
    "plt.xlabel('Year and Month', fontsize=10)\n",
    "plt.xticks(rotation=45)\n",
    "plt.ylabel('Total Revenue', fontsize=10)\n",
    "plt.grid(False)\n",
    "plt.show()\n",
    "\n"
   ]
  },
  {
   "cell_type": "code",
   "execution_count": 9,
   "id": "1b2068af",
   "metadata": {},
   "outputs": [
    {
     "data": {
      "text/plain": [
       "[Text(-50.0, 0, '2011-10-13'),\n",
       " Text(0.0, 0, '2010-12-01'),\n",
       " Text(50.0, 0, '2011-02-08'),\n",
       " Text(100.0, 0, '2011-04-07'),\n",
       " Text(150.0, 0, '2011-06-12'),\n",
       " Text(200.0, 0, '2011-08-09'),\n",
       " Text(250.0, 0, '2011-10-07'),\n",
       " Text(300.0, 0, '2011-12-05'),\n",
       " Text(350.0, 0, '')]"
      ]
     },
     "execution_count": 9,
     "metadata": {},
     "output_type": "execute_result"
    },
    {
     "data": {
      "image/png": "[encoded data removed]",
      "text/plain": [
       "<Figure size 432x288 with 1 Axes>"
      ]
     },
     "metadata": {
      "needs_background": "light"
     },
     "output_type": "display_data"
    }
   ],
   "source": [
    "# how is the revenue per day?\n",
    "revenue_by_day = pd.DataFrame(sales_data.groupby(['BaseDate'])['ItemTotalPrice'].sum().reset_index(name='TotalRevenue'))\n",
    "revenue_by_day\n",
    "\n",
    "\n",
    "chart_revenue_by_day = revenue_by_day.plot(x='BaseDate', y='TotalRevenue', kind='line', color='darkgreen')\n",
    "\n",
    "chart_revenue_by_day.set_xticklabels(chart_revenue_by_day.get_xticklabels(), rotation=45, ha='right')"
   ]
  },
  {
   "cell_type": "code",
   "execution_count": 10,
   "id": "7b2561a6",
   "metadata": {},
   "outputs": [
    {
     "data": {
      "text/html": [
       "<div>\n",
       "<style scoped>\n",
       "    .dataframe tbody tr th:only-of-type {\n",
       "        vertical-align: middle;\n",
       "    }\n",
       "\n",
       "    .dataframe tbody tr th {\n",
       "        vertical-align: top;\n",
       "    }\n",
       "\n",
       "    .dataframe thead th {\n",
       "        text-align: right;\n",
       "    }\n",
       "</style>\n",
       "<table border=\"1\" class=\"dataframe\">\n",
       "  <thead>\n",
       "    <tr style=\"text-align: right;\">\n",
       "      <th></th>\n",
       "      <th>CustomerID</th>\n",
       "      <th>TotalOrders</th>\n",
       "      <th>TotalRevenue</th>\n",
       "      <th>AvgTicket</th>\n",
       "    </tr>\n",
       "  </thead>\n",
       "  <tbody>\n",
       "    <tr>\n",
       "      <th>0</th>\n",
       "      <td>0</td>\n",
       "      <td>3710</td>\n",
       "      <td>1447682.12</td>\n",
       "      <td>390.0</td>\n",
       "    </tr>\n",
       "    <tr>\n",
       "      <th>2</th>\n",
       "      <td>12347</td>\n",
       "      <td>7</td>\n",
       "      <td>4310.00</td>\n",
       "      <td>615.0</td>\n",
       "    </tr>\n",
       "    <tr>\n",
       "      <th>3</th>\n",
       "      <td>12348</td>\n",
       "      <td>4</td>\n",
       "      <td>1797.24</td>\n",
       "      <td>449.0</td>\n",
       "    </tr>\n",
       "    <tr>\n",
       "      <th>4</th>\n",
       "      <td>12349</td>\n",
       "      <td>1</td>\n",
       "      <td>1757.55</td>\n",
       "      <td>1757.0</td>\n",
       "    </tr>\n",
       "    <tr>\n",
       "      <th>5</th>\n",
       "      <td>12350</td>\n",
       "      <td>1</td>\n",
       "      <td>334.40</td>\n",
       "      <td>334.0</td>\n",
       "    </tr>\n",
       "    <tr>\n",
       "      <th>...</th>\n",
       "      <td>...</td>\n",
       "      <td>...</td>\n",
       "      <td>...</td>\n",
       "      <td>...</td>\n",
       "    </tr>\n",
       "    <tr>\n",
       "      <th>4368</th>\n",
       "      <td>18280</td>\n",
       "      <td>1</td>\n",
       "      <td>180.60</td>\n",
       "      <td>180.0</td>\n",
       "    </tr>\n",
       "    <tr>\n",
       "      <th>4369</th>\n",
       "      <td>18281</td>\n",
       "      <td>1</td>\n",
       "      <td>80.82</td>\n",
       "      <td>80.0</td>\n",
       "    </tr>\n",
       "    <tr>\n",
       "      <th>4370</th>\n",
       "      <td>18282</td>\n",
       "      <td>3</td>\n",
       "      <td>176.60</td>\n",
       "      <td>58.0</td>\n",
       "    </tr>\n",
       "    <tr>\n",
       "      <th>4371</th>\n",
       "      <td>18283</td>\n",
       "      <td>16</td>\n",
       "      <td>2094.88</td>\n",
       "      <td>130.0</td>\n",
       "    </tr>\n",
       "    <tr>\n",
       "      <th>4372</th>\n",
       "      <td>18287</td>\n",
       "      <td>3</td>\n",
       "      <td>1837.28</td>\n",
       "      <td>612.0</td>\n",
       "    </tr>\n",
       "  </tbody>\n",
       "</table>\n",
       "<p>4317 rows × 4 columns</p>\n",
       "</div>"
      ],
      "text/plain": [
       "     CustomerID  TotalOrders  TotalRevenue  AvgTicket\n",
       "0             0         3710    1447682.12      390.0\n",
       "2         12347            7       4310.00      615.0\n",
       "3         12348            4       1797.24      449.0\n",
       "4         12349            1       1757.55     1757.0\n",
       "5         12350            1        334.40      334.0\n",
       "...         ...          ...           ...        ...\n",
       "4368      18280            1        180.60      180.0\n",
       "4369      18281            1         80.82       80.0\n",
       "4370      18282            3        176.60       58.0\n",
       "4371      18283           16       2094.88      130.0\n",
       "4372      18287            3       1837.28      612.0\n",
       "\n",
       "[4317 rows x 4 columns]"
      ]
     },
     "execution_count": 10,
     "metadata": {},
     "output_type": "execute_result"
    }
   ],
   "source": [
    "# how much has each customer paid?\n",
    "# total_per_customer = sales_data.groupby(['CustomerID'])['ItemTotalPrice'].sum().reset_index(name='Total Purchases')\n",
    "\n",
    "# removing results where CustomerID = 0\n",
    "# filtered_total_per_customer = total_per_customer.loc[total_per_customer['CustomerID'] > 0]\n",
    "# filtered_total_per_customer\n",
    "\n",
    "total_per_customer = sales_data.groupby('CustomerID').agg(\n",
    "    TotalOrders=('InvoiceNo', 'nunique')\n",
    "    , TotalRevenue=('ItemTotalPrice', 'sum')\n",
    ").reset_index()\n",
    "\n",
    "# avg ticket per CustomerID\n",
    "total_per_customer['AvgTicket'] = total_per_customer['TotalRevenue'] // total_per_customer['TotalOrders']\n",
    "\n",
    "# removing customers that have more refunds than purchases\n",
    "total_per_customer = total_per_customer[total_per_customer['AvgTicket'] > 0]\n",
    "\n",
    "# removing customers without actual orders\n",
    "total_per_customer = total_per_customer[total_per_customer['TotalOrders'] > 0]\n",
    "\n",
    "total_per_customer"
   ]
  },
  {
   "cell_type": "code",
   "execution_count": 11,
   "id": "71ad7086",
   "metadata": {},
   "outputs": [
    {
     "data": {
      "image/png": "[encoded data removed]",
      "text/plain": [
       "<Figure size 432x288 with 1 Axes>"
      ]
     },
     "metadata": {},
     "output_type": "display_data"
    }
   ],
   "source": [
    "# how is the distribution of avg tickets?\n",
    "\n",
    "plt.style.use('ggplot')\n",
    "plt.hist(total_per_customer['AvgTicket'], bins=100)\n",
    "plt.show()"
   ]
  },
  {
   "cell_type": "code",
   "execution_count": 12,
   "id": "5f42d125",
   "metadata": {},
   "outputs": [
    {
     "data": {
      "text/plain": [
       "count    4317.000000\n",
       "mean      322.123234\n",
       "std       351.414723\n",
       "min         3.000000\n",
       "25%       154.000000\n",
       "50%       240.000000\n",
       "75%       373.000000\n",
       "max      6207.000000\n",
       "Name: AvgTicket, dtype: float64"
      ]
     },
     "execution_count": 12,
     "metadata": {},
     "output_type": "execute_result"
    }
   ],
   "source": [
    "# Let's take a look closer at our AvgTicket basic stats\n",
    "total_per_customer['AvgTicket'].describe()"
   ]
  },
  {
   "cell_type": "code",
   "execution_count": 13,
   "id": "ec07f25f",
   "metadata": {},
   "outputs": [
    {
     "name": "stdout",
     "output_type": "stream",
     "text": [
      "6.700816316700165\n"
     ]
    }
   ],
   "source": [
    "# how much is the data skewed?\n",
    "print(skew(total_per_customer['AvgTicket']))"
   ]
  },
  {
   "cell_type": "code",
   "execution_count": 14,
   "id": "ae5b87ca",
   "metadata": {},
   "outputs": [
    {
     "data": {
      "text/html": [
       "<div>\n",
       "<style scoped>\n",
       "    .dataframe tbody tr th:only-of-type {\n",
       "        vertical-align: middle;\n",
       "    }\n",
       "\n",
       "    .dataframe tbody tr th {\n",
       "        vertical-align: top;\n",
       "    }\n",
       "\n",
       "    .dataframe thead th {\n",
       "        text-align: right;\n",
       "    }\n",
       "</style>\n",
       "<table border=\"1\" class=\"dataframe\">\n",
       "  <thead>\n",
       "    <tr style=\"text-align: right;\">\n",
       "      <th></th>\n",
       "      <th>TotalOrders</th>\n",
       "      <th>TotalRevenue</th>\n",
       "      <th>AvgTicket</th>\n",
       "    </tr>\n",
       "  </thead>\n",
       "  <tbody>\n",
       "    <tr>\n",
       "      <th>count</th>\n",
       "      <td>4039.000000</td>\n",
       "      <td>4.039000e+03</td>\n",
       "      <td>4039.000000</td>\n",
       "    </tr>\n",
       "    <tr>\n",
       "      <th>mean</th>\n",
       "      <td>5.966576</td>\n",
       "      <td>1.755775e+03</td>\n",
       "      <td>258.236197</td>\n",
       "    </tr>\n",
       "    <tr>\n",
       "      <th>std</th>\n",
       "      <td>59.025633</td>\n",
       "      <td>2.302125e+04</td>\n",
       "      <td>143.179605</td>\n",
       "    </tr>\n",
       "    <tr>\n",
       "      <th>min</th>\n",
       "      <td>1.000000</td>\n",
       "      <td>3.750000e+00</td>\n",
       "      <td>3.000000</td>\n",
       "    </tr>\n",
       "    <tr>\n",
       "      <th>25%</th>\n",
       "      <td>1.000000</td>\n",
       "      <td>2.874950e+02</td>\n",
       "      <td>150.000000</td>\n",
       "    </tr>\n",
       "    <tr>\n",
       "      <th>50%</th>\n",
       "      <td>3.000000</td>\n",
       "      <td>6.051200e+02</td>\n",
       "      <td>227.000000</td>\n",
       "    </tr>\n",
       "    <tr>\n",
       "      <th>75%</th>\n",
       "      <td>6.000000</td>\n",
       "      <td>1.433490e+03</td>\n",
       "      <td>341.000000</td>\n",
       "    </tr>\n",
       "    <tr>\n",
       "      <th>max</th>\n",
       "      <td>3710.000000</td>\n",
       "      <td>1.447682e+06</td>\n",
       "      <td>701.000000</td>\n",
       "    </tr>\n",
       "  </tbody>\n",
       "</table>\n",
       "</div>"
      ],
      "text/plain": [
       "       TotalOrders  TotalRevenue    AvgTicket\n",
       "count  4039.000000  4.039000e+03  4039.000000\n",
       "mean      5.966576  1.755775e+03   258.236197\n",
       "std      59.025633  2.302125e+04   143.179605\n",
       "min       1.000000  3.750000e+00     3.000000\n",
       "25%       1.000000  2.874950e+02   150.000000\n",
       "50%       3.000000  6.051200e+02   227.000000\n",
       "75%       6.000000  1.433490e+03   341.000000\n",
       "max    3710.000000  1.447682e+06   701.000000"
      ]
     },
     "execution_count": 14,
     "metadata": {},
     "output_type": "execute_result"
    }
   ],
   "source": [
    "# the data is skewed to the right, as predictable by the type of data we're looking, but it has some outliers. \n",
    "\n",
    "# Let's remove them with Interquartile Range (IQR) and see how the average customer behaves\n",
    "\n",
    "# calculating the 1st and 3rd percentiles\n",
    "Q1 = total_per_customer['AvgTicket'].quantile(0.25)\n",
    "Q3 = total_per_customer['AvgTicket'].quantile(0.75)\n",
    "\n",
    "# calculating the IQR\n",
    "IQR = Q3 - Q1\n",
    "\n",
    "# identify outliers\n",
    "threshold = 1.5\n",
    "outliers = total_per_customer[(total_per_customer['AvgTicket'] < Q1 - threshold * IQR) | (total_per_customer['AvgTicket'] > Q3 + threshold * IQR)]\n",
    "\n",
    "# dropping outliers\n",
    "total_per_customer2 = total_per_customer.drop(outliers.index)\n",
    "\n",
    "# taking a look at the new values without the outliers\n",
    "total_per_customer2.describe()"
   ]
  },
  {
   "cell_type": "code",
   "execution_count": 15,
   "id": "9e7753a4",
   "metadata": {},
   "outputs": [
    {
     "data": {
      "text/plain": [
       "count    4039.000000\n",
       "mean      258.236197\n",
       "std       143.179605\n",
       "min         3.000000\n",
       "25%       150.000000\n",
       "50%       227.000000\n",
       "75%       341.000000\n",
       "max       701.000000\n",
       "Name: AvgTicket, dtype: float64"
      ]
     },
     "execution_count": 15,
     "metadata": {},
     "output_type": "execute_result"
    }
   ],
   "source": [
    "total_per_customer2['AvgTicket'].describe()"
   ]
  },
  {
   "cell_type": "code",
   "execution_count": 16,
   "id": "79da7030",
   "metadata": {},
   "outputs": [
    {
     "name": "stdout",
     "output_type": "stream",
     "text": [
      "0.8340454181629414\n"
     ]
    }
   ],
   "source": [
    "# it looks better, since there's not that much difference between 75th percentile and max value\n",
    "# how it's the skew now?\n",
    "\n",
    "print(skew(total_per_customer2['AvgTicket']))"
   ]
  },
  {
   "cell_type": "code",
   "execution_count": 17,
   "id": "17aa4de4",
   "metadata": {},
   "outputs": [
    {
     "data": {
      "image/png": "[encoded data removed]",
      "text/plain": [
       "<Figure size 432x288 with 1 Axes>"
      ]
     },
     "metadata": {},
     "output_type": "display_data"
    }
   ],
   "source": [
    "# much better. Not that disturbed, but still distributed \"to the left\"\n",
    "# and how it reflects in out histogram now?\n",
    "\n",
    "# Histogram plot 1\n",
    "plt.hist(total_per_customer2['AvgTicket'], \n",
    "         bins=100, \n",
    "         color='steelblue', \n",
    "         alpha=0.9)\n",
    "\n",
    "# plotting titles, axis and legend\n",
    "plt.title('Customers vs. Average Ticket', fontweight = \"bold\")\n",
    "plt.xlabel('Average Ticket')\n",
    "plt.ylabel('Total Customers')\n",
    "\n",
    "plt.show()"
   ]
  },
  {
   "cell_type": "code",
   "execution_count": 18,
   "id": "a911b379",
   "metadata": {},
   "outputs": [
    {
     "data": {
      "image/png": "[encoded data removed]",
      "text/plain": [
       "<Figure size 432x288 with 1 Axes>"
      ]
     },
     "metadata": {},
     "output_type": "display_data"
    }
   ],
   "source": [
    "# Let's see the distributions and probability densities\n",
    "\n",
    "# Histogram plot 2\n",
    "plt.hist(total_per_customer2['AvgTicket'], \n",
    "         density=True, \n",
    "         bins=100, \n",
    "         color='steelblue', \n",
    "         alpha=0.9,\n",
    "         label='Histogram')\n",
    "\n",
    "# Gaussian distribution curve\n",
    "mean = np.mean(total_per_customer2['AvgTicket'])\n",
    "median = np.median(total_per_customer2['AvgTicket'])\n",
    "std = np.std(total_per_customer2['AvgTicket'])\n",
    "x = np.linspace(total_per_customer2['AvgTicket'].min(), total_per_customer2['AvgTicket'].max(), 100)\n",
    "plt.plot(x, stats.norm.pdf(x, mean, std),\n",
    "         color='darkred', \n",
    "         linestyle='--', \n",
    "         label='Gaussian Curve', \n",
    "         alpha=0.5)\n",
    "plt.axvline(x=median, color='brown', alpha=0.3, label='Median')\n",
    "\n",
    "# Kernel Distribution Estimation Plot\n",
    "sns.kdeplot(total_per_customer2['AvgTicket'], color=\"darkblue\", linewidth=1, linestyle='dotted', label='Distribution Curve')\n",
    "\n",
    "# plotting titles, axis and legend\n",
    "plt.title(f'Avg. Ticket Distribution\\nmean={mean:.2f}, median={median:.2f}, std={std:.2f}', fontweight = \"bold\")\n",
    "plt.xlabel('Average Ticket')\n",
    "plt.ylabel('Probability Density')\n",
    "plt.legend()\n",
    "\n",
    "plt.show()"
   ]
  },
  {
   "cell_type": "code",
   "execution_count": 19,
   "id": "17bc9a3d",
   "metadata": {},
   "outputs": [
    {
     "data": {
      "text/html": [
       "<div>\n",
       "<style scoped>\n",
       "    .dataframe tbody tr th:only-of-type {\n",
       "        vertical-align: middle;\n",
       "    }\n",
       "\n",
       "    .dataframe tbody tr th {\n",
       "        vertical-align: top;\n",
       "    }\n",
       "\n",
       "    .dataframe thead th {\n",
       "        text-align: right;\n",
       "    }\n",
       "</style>\n",
       "<table border=\"1\" class=\"dataframe\">\n",
       "  <thead>\n",
       "    <tr style=\"text-align: right;\">\n",
       "      <th></th>\n",
       "      <th>AvgTicket</th>\n",
       "      <th>TotalRevenue</th>\n",
       "    </tr>\n",
       "  </thead>\n",
       "  <tbody>\n",
       "    <tr>\n",
       "      <th>AvgTicket</th>\n",
       "      <td>1.000000</td>\n",
       "      <td>-0.571042</td>\n",
       "    </tr>\n",
       "    <tr>\n",
       "      <th>TotalRevenue</th>\n",
       "      <td>-0.571042</td>\n",
       "      <td>1.000000</td>\n",
       "    </tr>\n",
       "  </tbody>\n",
       "</table>\n",
       "</div>"
      ],
      "text/plain": [
       "              AvgTicket  TotalRevenue\n",
       "AvgTicket      1.000000     -0.571042\n",
       "TotalRevenue  -0.571042      1.000000"
      ]
     },
     "execution_count": 19,
     "metadata": {},
     "output_type": "execute_result"
    }
   ],
   "source": [
    "\"\"\"\n",
    "The chart shows how skewed is this distribution, and how most customers are below the global average. \n",
    "Above the median, we have a slightly indication that, the more the price rises, less customers we have.\n",
    "But, below the median, we have a different behavior, and we can think of product combinations within that limit.\n",
    "\n",
    "Let's see how strong is the correlation between the average ticket and total customers, looking above and below the avg\n",
    "\"\"\"\n",
    "\n",
    "# new dataframe to group the customers\n",
    "customers_per_avg_ticket = total_per_customer2[['CustomerID', 'AvgTicket']]\n",
    "ticket_and_customer_corr = customers_per_avg_ticket.groupby(['AvgTicket']).count().reset_index()\n",
    "ticket_and_customer_corr.columns = ['AvgTicket', 'TotalRevenue']\n",
    "\n",
    "# all population correlation\n",
    "ticket_and_customer_corr.corr()"
   ]
  },
  {
   "cell_type": "code",
   "execution_count": 20,
   "id": "450d2bc6",
   "metadata": {},
   "outputs": [
    {
     "data": {
      "text/html": [
       "<div>\n",
       "<style scoped>\n",
       "    .dataframe tbody tr th:only-of-type {\n",
       "        vertical-align: middle;\n",
       "    }\n",
       "\n",
       "    .dataframe tbody tr th {\n",
       "        vertical-align: top;\n",
       "    }\n",
       "\n",
       "    .dataframe thead th {\n",
       "        text-align: right;\n",
       "    }\n",
       "</style>\n",
       "<table border=\"1\" class=\"dataframe\">\n",
       "  <thead>\n",
       "    <tr style=\"text-align: right;\">\n",
       "      <th></th>\n",
       "      <th>AvgTicket</th>\n",
       "      <th>TotalRevenue</th>\n",
       "    </tr>\n",
       "  </thead>\n",
       "  <tbody>\n",
       "    <tr>\n",
       "      <th>AvgTicket</th>\n",
       "      <td>1.000000</td>\n",
       "      <td>-0.761119</td>\n",
       "    </tr>\n",
       "    <tr>\n",
       "      <th>TotalRevenue</th>\n",
       "      <td>-0.761119</td>\n",
       "      <td>1.000000</td>\n",
       "    </tr>\n",
       "  </tbody>\n",
       "</table>\n",
       "</div>"
      ],
      "text/plain": [
       "              AvgTicket  TotalRevenue\n",
       "AvgTicket      1.000000     -0.761119\n",
       "TotalRevenue  -0.761119      1.000000"
      ]
     },
     "execution_count": 20,
     "metadata": {},
     "output_type": "execute_result"
    }
   ],
   "source": [
    "# above median\n",
    "ticket_and_customer_corr[ticket_and_customer_corr['AvgTicket'] > median].corr()"
   ]
  },
  {
   "cell_type": "code",
   "execution_count": 21,
   "id": "8f2b4b1b",
   "metadata": {},
   "outputs": [
    {
     "data": {
      "text/html": [
       "<div>\n",
       "<style scoped>\n",
       "    .dataframe tbody tr th:only-of-type {\n",
       "        vertical-align: middle;\n",
       "    }\n",
       "\n",
       "    .dataframe tbody tr th {\n",
       "        vertical-align: top;\n",
       "    }\n",
       "\n",
       "    .dataframe thead th {\n",
       "        text-align: right;\n",
       "    }\n",
       "</style>\n",
       "<table border=\"1\" class=\"dataframe\">\n",
       "  <thead>\n",
       "    <tr style=\"text-align: right;\">\n",
       "      <th></th>\n",
       "      <th>AvgTicket</th>\n",
       "      <th>TotalRevenue</th>\n",
       "    </tr>\n",
       "  </thead>\n",
       "  <tbody>\n",
       "    <tr>\n",
       "      <th>AvgTicket</th>\n",
       "      <td>1.00000</td>\n",
       "      <td>-0.73694</td>\n",
       "    </tr>\n",
       "    <tr>\n",
       "      <th>TotalRevenue</th>\n",
       "      <td>-0.73694</td>\n",
       "      <td>1.00000</td>\n",
       "    </tr>\n",
       "  </tbody>\n",
       "</table>\n",
       "</div>"
      ],
      "text/plain": [
       "              AvgTicket  TotalRevenue\n",
       "AvgTicket       1.00000      -0.73694\n",
       "TotalRevenue   -0.73694       1.00000"
      ]
     },
     "execution_count": 21,
     "metadata": {},
     "output_type": "execute_result"
    }
   ],
   "source": [
    "# above average\n",
    "ticket_and_customer_corr[ticket_and_customer_corr['AvgTicket'] > mean].corr()"
   ]
  },
  {
   "cell_type": "code",
   "execution_count": 22,
   "id": "e0c8873a",
   "metadata": {},
   "outputs": [
    {
     "data": {
      "text/html": [
       "<div>\n",
       "<style scoped>\n",
       "    .dataframe tbody tr th:only-of-type {\n",
       "        vertical-align: middle;\n",
       "    }\n",
       "\n",
       "    .dataframe tbody tr th {\n",
       "        vertical-align: top;\n",
       "    }\n",
       "\n",
       "    .dataframe thead th {\n",
       "        text-align: right;\n",
       "    }\n",
       "</style>\n",
       "<table border=\"1\" class=\"dataframe\">\n",
       "  <thead>\n",
       "    <tr style=\"text-align: right;\">\n",
       "      <th></th>\n",
       "      <th>AvgTicket</th>\n",
       "      <th>TotalRevenue</th>\n",
       "    </tr>\n",
       "  </thead>\n",
       "  <tbody>\n",
       "    <tr>\n",
       "      <th>AvgTicket</th>\n",
       "      <td>1.000000</td>\n",
       "      <td>0.685895</td>\n",
       "    </tr>\n",
       "    <tr>\n",
       "      <th>TotalRevenue</th>\n",
       "      <td>0.685895</td>\n",
       "      <td>1.000000</td>\n",
       "    </tr>\n",
       "  </tbody>\n",
       "</table>\n",
       "</div>"
      ],
      "text/plain": [
       "              AvgTicket  TotalRevenue\n",
       "AvgTicket      1.000000      0.685895\n",
       "TotalRevenue   0.685895      1.000000"
      ]
     },
     "execution_count": 22,
     "metadata": {},
     "output_type": "execute_result"
    }
   ],
   "source": [
    "# below median\n",
    "ticket_and_customer_corr[ticket_and_customer_corr['AvgTicket'] < median].corr()"
   ]
  },
  {
   "cell_type": "code",
   "execution_count": 23,
   "id": "a700a2f9",
   "metadata": {},
   "outputs": [
    {
     "data": {
      "text/plain": [
       "\"\\nFrom the above statements, we see that there's a negative correlation between average ticket and total customers.\\nThe higher is the average ticket, the lower is the total customers we have for that ticket.\\nWhen we look at the values above the average and the median, this negative correlation is more intense.\\n\\nWhen we look at the values below the median, there is a strong positive correlation. \\nThis could mean we have an opportunity to explore \\n    how to have more customers while still have products and basket products around the average ticket.\\n    \\nFinally, let's explore if there's some correlation between average tickets and total orders.\\n\""
      ]
     },
     "execution_count": 23,
     "metadata": {},
     "output_type": "execute_result"
    }
   ],
   "source": [
    "\"\"\"\n",
    "From the above statements, we see that there's a negative correlation between average ticket and total customers.\n",
    "The higher is the average ticket, the lower is the total customers we have for that ticket.\n",
    "When we look at the values above the average and the median, this negative correlation is more intense.\n",
    "\n",
    "When we look at the values below the median, there is a strong positive correlation. \n",
    "This could mean we have an opportunity to explore \n",
    "    how to have more customers while still have products and basket products around the average ticket.\n",
    "    \n",
    "Finally, let's explore if there's some correlation between average tickets and total orders.\n",
    "\"\"\""
   ]
  },
  {
   "cell_type": "code",
   "execution_count": 24,
   "id": "22d1dcf2",
   "metadata": {},
   "outputs": [
    {
     "data": {
      "image/png": "[encoded data removed]",
      "text/plain": [
       "<Figure size 432x288 with 2 Axes>"
      ]
     },
     "metadata": {},
     "output_type": "display_data"
    }
   ],
   "source": [
    "# dataframe without CustomerId\n",
    "corr_expenses = total_per_customer2[['TotalOrders', 'TotalRevenue', 'AvgTicket']]\n",
    "\n",
    "# making a visualization with those correlations\n",
    "sns.heatmap(corr_expenses.corr(), annot=True)\n",
    "plt.show()"
   ]
  },
  {
   "cell_type": "code",
   "execution_count": 25,
   "id": "cf281cab",
   "metadata": {},
   "outputs": [
    {
     "data": {
      "image/png": "[encoded data removed]",
      "text/plain": [
       "<Figure size 432x288 with 2 Axes>"
      ]
     },
     "metadata": {},
     "output_type": "display_data"
    }
   ],
   "source": [
    "# there's no strong correlation looking at the global population\n",
    "# check the correlation between avg. ticket and customers above the median\n",
    "corr_expenses_above = corr_expenses[corr_expenses['AvgTicket'] > mean]\n",
    "sns.heatmap(corr_expenses_above.corr(), annot=True)\n",
    "plt.show()"
   ]
  },
  {
   "cell_type": "code",
   "execution_count": 26,
   "id": "37363e3f",
   "metadata": {},
   "outputs": [
    {
     "data": {
      "image/png": "[encoded data removed]",
      "text/plain": [
       "<Figure size 432x288 with 2 Axes>"
      ]
     },
     "metadata": {},
     "output_type": "display_data"
    }
   ],
   "source": [
    "# there's no strong correlation looking at customers above the median\n",
    "# check the correlation between avg. ticket and customers below the median\n",
    "corr_expenses_above = corr_expenses[corr_expenses['AvgTicket'] < mean]\n",
    "sns.heatmap(corr_expenses_above.corr(), annot=True)\n",
    "plt.show()"
   ]
  },
  {
   "cell_type": "code",
   "execution_count": 27,
   "id": "c6b77cf7",
   "metadata": {},
   "outputs": [
    {
     "data": {
      "text/plain": [
       "\"\\nThere's no strong correlation between average tickets and total orders. \\nThat means a lot of customers have purchasing habits around the average ticket, but there's no indication of \\n    total orders and average expense. \\nSo we have a lot of opportunities to increase this correlation by estimulating purchasing habits.\\n\\n\\nPossible further next steps from here would be:\\n- plot a dashboard so all key stakeholders can analyse the results\\n- deep dive into customer data, like purchase frequency, location and MRR\\n- measure product sales with avg. ticket from 100 to 200\\n- segment our customers \\n- have product recommendations to suggest new purchases\\n- check which products are commonly sold together\\n- predict customer churn\\n- predict sales revenue for the next theoretical year\\n- product price prediction\\n\""
      ]
     },
     "execution_count": 27,
     "metadata": {},
     "output_type": "execute_result"
    }
   ],
   "source": [
    "\"\"\"\n",
    "There's no strong correlation between average tickets and total orders. \n",
    "That means a lot of customers have purchasing habits around the average ticket, but there's no indication of \n",
    "    total orders and average expense. \n",
    "So we have a lot of opportunities to increase this correlation by estimulating purchasing habits.\n",
    "\n",
    "\n",
    "Possible further next steps from here would be:\n",
    "- plot a dashboard so all key stakeholders can analyse the results\n",
    "- deep dive into customer data, like purchase frequency, location and MRR\n",
    "- measure product sales with avg. ticket from 100 to 200\n",
    "- segment our customers \n",
    "- have product recommendations to suggest new purchases\n",
    "- check which products are commonly sold together\n",
    "- predict customer churn\n",
    "- predict sales revenue for the next theoretical year\n",
    "- product price prediction\n",
    "\"\"\""
   ]
  }
 ],
 "metadata": {
  "kernelspec": {
   "display_name": "Python 3",
   "language": "python",
   "name": "python3"
  },
  "language_info": {
   "codemirror_mode": {
    "name": "ipython",
    "version": 3
   },
   "file_extension": ".py",
   "mimetype": "text/x-python",
   "name": "python",
   "nbconvert_exporter": "python",
   "pygments_lexer": "ipython3",
   "version": "3.8.8"
  }
 },
 "nbformat": 4,
 "nbformat_minor": 5
}
